{
  "nbformat": 4,
  "nbformat_minor": 0,
  "metadata": {
    "colab": {
      "name": "Codesnippets.ipynb",
      "provenance": [],
      "authorship_tag": "ABX9TyOM+cQFHun1LGJuREa31p9Z",
      "include_colab_link": true
    },
    "kernelspec": {
      "name": "python3",
      "display_name": "Python 3"
    }
  },
  "cells": [
    {
      "cell_type": "markdown",
      "metadata": {
        "id": "view-in-github",
        "colab_type": "text"
      },
      "source": [
        "<a href=\"https://colab.research.google.com/github/BinaerBaer/Sandbox/blob/master/Codesnippets.ipynb\" target=\"_parent\"><img src=\"https://colab.research.google.com/assets/colab-badge.svg\" alt=\"Open In Colab\"/></a>"
      ]
    },
    {
      "cell_type": "code",
      "metadata": {
        "id": "t7oviZzfepjs",
        "colab_type": "code",
        "colab": {}
      },
      "source": [
        "# Get all matplotlib output in seaborn style: \n",
        "# https://seaborn.pydata.org/generated/seaborn.set.html\n",
        "\n",
        "import seaborn as sns\n",
        "# default seaborn style\n",
        "sns.set()\n",
        "\n",
        "# Notebook Style: higher fontsize\n",
        "sns.set_context(\"notebook\", font_scale=1.5, rc={\"lines.linewidth\": 2.5})\n",
        "\n",
        "# Poster Style: Extra large fontsize, larger gridlinewidth\n",
        "sns.set_context(\"poster\")\n",
        "\n",
        "# Seaborn Colorpalettes\n",
        "# https://seaborn.pydata.org/tutorial/color_palettes.html#palette-tutorial"
      ],
      "execution_count": 0,
      "outputs": []
    }
  ]
}