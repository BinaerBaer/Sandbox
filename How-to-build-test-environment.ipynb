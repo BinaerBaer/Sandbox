{
 "cells": [
  {
   "cell_type": "code",
   "execution_count": 1,
   "metadata": {},
   "outputs": [
    {
     "name": "stdout",
     "output_type": "stream",
     "text": [
      "Collecting package metadata (current_repodata.json): done\n",
      "Solving environment: done\n",
      "\n",
      "# All requested packages already installed.\n",
      "\n",
      "\n",
      "Note: you may need to restart the kernel to use updated packages.\n"
     ]
    }
   ],
   "source": [
    "# First time mocking? Run this cell!\n",
    "%conda install mock -y"
   ]
  },
  {
   "cell_type": "code",
   "execution_count": 5,
   "metadata": {},
   "outputs": [],
   "source": [
    "def test_function():\n",
    "    for i in range(10):\n",
    "        user_input = input('input 1: ')\n",
    "        print('user inputted for input 1:', user_input)\n",
    "        \n",
    "    for i in range(8):\n",
    "        user_input = input('input 2: ')\n",
    "        print('user inputted for input 2:', user_input)"
   ]
  },
  {
   "cell_type": "code",
   "execution_count": 6,
   "metadata": {},
   "outputs": [
    {
     "name": "stdout",
     "output_type": "stream",
     "text": [
      "user inputted for input 1: 0\n",
      "user inputted for input 1: 0\n",
      "user inputted for input 1: 0\n",
      "user inputted for input 1: 2\n",
      "user inputted for input 1: 1\n",
      "user inputted for input 1: 1\n",
      "user inputted for input 1: 2\n",
      "user inputted for input 1: 1\n",
      "user inputted for input 1: 2\n",
      "user inputted for input 1: 2\n",
      "user inputted for input 2: 0\n",
      "user inputted for input 2: 1\n",
      "user inputted for input 2: 1\n",
      "user inputted for input 2: 0\n",
      "user inputted for input 2: 1\n",
      "user inputted for input 2: 2\n",
      "user inputted for input 2: 2\n",
      "user inputted for input 2: 0\n"
     ]
    }
   ],
   "source": [
    "import mock\n",
    "\n",
    "# series of inputs \n",
    "play1 = (move1 for move1 in ['0', '0', '0', '2', '1', '1', '2', '1', '2', '2'])\n",
    "play2 = (move2 for move2 in ['0', '1', '1', '0', '1', '2', '2', '0'])\n",
    "\n",
    "\n",
    "def mock_input(prompt):\n",
    "    # does the input prompt ask \n",
    "    # something that is containing \n",
    "    # \"input 1\" or \"input 2\"? \n",
    "    # return input for each case\n",
    "    if 'input 1' in prompt:\n",
    "        return next(play1)\n",
    "    if 'input 2' in prompt:\n",
    "        return next(play2)\n",
    "\n",
    "# in this environment every 'input' function \n",
    "# will be replaced by 'mock_input'\n",
    "with mock.patch('builtins.input', mock_input):\n",
    "    test_function()"
   ]
  },
  {
   "cell_type": "code",
   "execution_count": null,
   "metadata": {},
   "outputs": [],
   "source": []
  }
 ],
 "metadata": {
  "kernelspec": {
   "display_name": "Python [conda env:nf] *",
   "language": "python",
   "name": "conda-env-nf-py"
  },
  "language_info": {
   "codemirror_mode": {
    "name": "ipython",
    "version": 3
   },
   "file_extension": ".py",
   "mimetype": "text/x-python",
   "name": "python",
   "nbconvert_exporter": "python",
   "pygments_lexer": "ipython3",
   "version": "3.6.10"
  }
 },
 "nbformat": 4,
 "nbformat_minor": 4
}
