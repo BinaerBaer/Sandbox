{
 "cells": [
  {
   "cell_type": "markdown",
   "metadata": {},
   "source": [
    "# How to generate a calendar"
   ]
  },
  {
   "cell_type": "code",
   "execution_count": 1,
   "metadata": {},
   "outputs": [
    {
     "name": "stdout",
     "output_type": "stream",
     "text": [
      "Collecting package metadata (current_repodata.json): done\n",
      "Solving environment: done\n",
      "\n",
      "\n",
      "==> WARNING: A newer version of conda exists. <==\n",
      "  current version: 4.7.12\n",
      "  latest version: 4.8.2\n",
      "\n",
      "Please update conda by running\n",
      "\n",
      "    $ conda update -n base -c defaults conda\n",
      "\n",
      "\n",
      "\n",
      "## Package Plan ##\n",
      "\n",
      "  environment location: /Users/bendixhass/opt/anaconda3\n",
      "\n",
      "  added / updated specs:\n",
      "    - holidays\n",
      "\n",
      "\n",
      "The following packages will be downloaded:\n",
      "\n",
      "    package                    |            build\n",
      "    ---------------------------|-----------------\n",
      "    conda-4.8.2                |           py37_0         3.0 MB  conda-forge\n",
      "    convertdate-2.1.3          |          py_1000          30 KB  conda-forge\n",
      "    ephem-3.7.7.0              |   py37h0b31af3_0         735 KB  conda-forge\n",
      "    holidays-0.10.1            |             py_0          56 KB  conda-forge\n",
      "    ------------------------------------------------------------\n",
      "                                           Total:         3.8 MB\n",
      "\n",
      "The following NEW packages will be INSTALLED:\n",
      "\n",
      "  convertdate        conda-forge/noarch::convertdate-2.1.3-py_1000\n",
      "  ephem              conda-forge/osx-64::ephem-3.7.7.0-py37h0b31af3_0\n",
      "  holidays           conda-forge/noarch::holidays-0.10.1-py_0\n",
      "\n",
      "The following packages will be UPDATED:\n",
      "\n",
      "  conda                      pkgs/main::conda-4.7.12-py37_0 --> conda-forge::conda-4.8.2-py37_0\n",
      "\n",
      "\n",
      "\n",
      "Downloading and Extracting Packages\n",
      "holidays-0.10.1      | 56 KB     | ##################################### | 100% \n",
      "ephem-3.7.7.0        | 735 KB    | ##################################### | 100% \n",
      "conda-4.8.2          | 3.0 MB    | ##################################### | 100% \n",
      "convertdate-2.1.3    | 30 KB     | ##################################### | 100% \n",
      "Preparing transaction: done\n",
      "Verifying transaction: done\n",
      "Executing transaction: done\n"
     ]
    }
   ],
   "source": [
    "!conda install -c conda-forge holidays -y"
   ]
  },
  {
   "cell_type": "code",
   "execution_count": 2,
   "metadata": {},
   "outputs": [],
   "source": [
    "import holidays as hd"
   ]
  },
  {
   "cell_type": "code",
   "execution_count": null,
   "metadata": {},
   "outputs": [],
   "source": [
    "att_lis = ['Frauke', \n",
    "           'Stefan', \n",
    "           'Dennis', \n",
    "           'Markus', \n",
    "           'Simon', \n",
    "           'Bendix', \n",
    "           'Torben', \n",
    "           'Marcel', \n",
    "           'Marc', \n",
    "           'Patrick', \n",
    "           'Mia', \n",
    "           'Arne',\n",
    "           'Martin',\n",
    "           'Sebastian', \n",
    "           'Fabian', \n",
    "           'Karsten']"
   ]
  }
 ],
 "metadata": {
  "kernelspec": {
   "display_name": "Python 3",
   "language": "python",
   "name": "python3"
  },
  "language_info": {
   "codemirror_mode": {
    "name": "ipython",
    "version": 3
   },
   "file_extension": ".py",
   "mimetype": "text/x-python",
   "name": "python",
   "nbconvert_exporter": "python",
   "pygments_lexer": "ipython3",
   "version": "3.7.4"
  }
 },
 "nbformat": 4,
 "nbformat_minor": 2
}
